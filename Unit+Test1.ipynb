{
 "cells": [
  {
   "cell_type": "markdown",
   "metadata": {},
   "source": [
    "## 1. Identify features of the dataset, including the outcome and covariates/predictors\n",
    "\n",
    "The data set includes three inputs (covariates/predictors)\n",
    "1. GRE Score\n",
    "2. GPA\n",
    "3. Some kind of ranking/background of the high school\n",
    "\n",
    "## The data set includes one outcome\n",
    "1. Admit - It shows if the student was admitted or not."
   ]
  },
  {
   "cell_type": "code",
   "execution_count": null,
   "metadata": {
    "collapsed": true
   },
   "outputs": [],
   "source": []
  },
  {
   "cell_type": "code",
   "execution_count": null,
   "metadata": {
    "collapsed": true
   },
   "outputs": [],
   "source": []
  },
  {
   "cell_type": "markdown",
   "metadata": {},
   "source": [
    "## 2. Create a data dictionary with classification of available variables\n",
    "\n"
   ]
  },
  {
   "cell_type": "code",
   "execution_count": null,
   "metadata": {
    "collapsed": true
   },
   "outputs": [],
   "source": []
  },
  {
   "cell_type": "code",
   "execution_count": 3,
   "metadata": {},
   "outputs": [
    {
     "name": "stdout",
     "output_type": "stream",
     "text": [
      "{'Prestige': 3, 'Admit': 0, 'GRE': 380, 'GPA': 3.61}\n"
     ]
    }
   ],
   "source": [
    "data_dict = {'Admit':0,'GRE':380,'GPA':3.61,'Prestige':3}\n",
    "print data_dict"
   ]
  },
  {
   "cell_type": "markdown",
   "metadata": {},
   "source": [
    "## 3. Write a high quality problem statement\n",
    "\n",
    "Predict weather a student will be admitted or not, given the variables i.e. GRE score, GPA, and prestige/ranking from their high school with a 95% confidence."
   ]
  },
  {
   "cell_type": "markdown",
   "metadata": {},
   "source": [
    "## 4.State the risks and assumptions of your data\n",
    "\n",
    "Assumptions:\n",
    "1. A student's admit/not admit result can be determined by the three variables: GRE, GPA, and Prestige\n",
    "\n",
    "Risks:\n",
    "1. It could be a combination of 2 out of the 3 variables: GRE, GPA, and Prestige\n",
    "2. There could be additional factors during decision making e.g. Essay, recommendations, and/or other factors on the application"
   ]
  },
  {
   "cell_type": "markdown",
   "metadata": {},
   "source": [
    "## 5. Outline exploratory analysis methods\n",
    "\n",
    "1. Analyse the relationship between each variable individually and the outcome i.e. admit\n",
    "2. Analyse a combination approach where two variables are checked for the combined contribution out of the three to determine admit rate\n",
    "3. Analyse all three\n",
    "\n",
    "Basic analysis can be done using bar charts / graphs\n",
    "\n",
    "Advanced analysis can be done using plotting the data to see if there is any positive or negative correlation between the inputs and result\n",
    "\n",
    "\n",
    "\n",
    "\n"
   ]
  },
  {
   "cell_type": "markdown",
   "metadata": {},
   "source": [
    "## Bonus\n",
    "## Practice writing an alternative problem statement for your dataset\n",
    "\n",
    "Predict the GPA, or GRE score given the admit and prestige for a candidate with 65% confidence\n",
    "\n",
    "\n",
    "\n",
    "\n"
   ]
  },
  {
   "cell_type": "markdown",
   "metadata": {},
   "source": [
    "## Articulate the risks and assumptions of this alternative model\n",
    "\n",
    "Because there may be other factors at play, it is very hard for predict what could a certain input be.  So the risk of not getting a meaningful output is high.\n",
    "\n"
   ]
  }
 ],
 "metadata": {
  "kernelspec": {
   "display_name": "Python 3",
   "language": "python",
   "name": "python3"
  },
  "language_info": {
   "codemirror_mode": {
    "name": "ipython",
    "version": 3
   },
   "file_extension": ".py",
   "mimetype": "text/x-python",
   "name": "python",
   "nbconvert_exporter": "python",
   "pygments_lexer": "ipython3",
   "version": "3.6.1"
  }
 },
 "nbformat": 4,
 "nbformat_minor": 1
}
